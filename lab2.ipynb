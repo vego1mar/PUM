{
 "cells": [
  {
   "cell_type": "markdown",
   "source": [
    "#### Wizualizacja danych z użyciem t-SNE"
   ],
   "metadata": {
    "collapsed": false,
    "pycharm": {
     "name": "#%% md\n"
    }
   }
  },
  {
   "cell_type": "code",
   "execution_count": 1,
   "metadata": {
    "collapsed": true
   },
   "outputs": [
    {
     "name": "stdout",
     "output_type": "stream",
     "text": [
      "(581012, 54)\n",
      "(581012,)\n"
     ]
    }
   ],
   "source": [
    "import sklearn.datasets as skd\n",
    "\n",
    "cover_data = skd.fetch_covtype(\n",
    "    data_home='../../data/cover_dataset/',\n",
    "    download_if_missing=False,\n",
    "    random_state=23,\n",
    "    shuffle=False,\n",
    "    return_X_y=False\n",
    ")\n",
    "\n",
    "print(cover_data['data'].shape)\n",
    "print(cover_data['target'].shape)"
   ]
  },
  {
   "cell_type": "code",
   "execution_count": 2,
   "outputs": [
    {
     "name": "stdout",
     "output_type": "stream",
     "text": [
      "(100, 54)\n",
      "(100, 54)\n",
      "(100,)\n",
      "(100,)\n",
      "(100, 54)\n"
     ]
    }
   ],
   "source": [
    "import sklearn.manifold as skm\n",
    "import numpy as np\n",
    "import random\n",
    "\n",
    "random_indices = np.array(random.sample(range(len(cover_data['data'])), 100))\n",
    "model = skm.TSNE(learning_rate=100)\n",
    "data_features = cover_data['data'][random_indices]\n",
    "transformed = model.fit_transform(data_features)\n",
    "\n",
    "x = transformed[:,0]\n",
    "y = transformed[:,1]\n",
    "images_array = cover_data['data'][random_indices]\n",
    "\n",
    "print(data_features.shape)\n",
    "print(data_features.shape)\n",
    "print(x.shape)\n",
    "print(y.shape)\n",
    "print(images_array.shape)"
   ],
   "metadata": {
    "collapsed": false,
    "pycharm": {
     "name": "#%%\n"
    }
   }
  },
  {
   "cell_type": "code",
   "execution_count": 3,
   "outputs": [
    {
     "data": {
      "text/plain": "<Figure size 432x288 with 1 Axes>",
      "image/png": "[encoded data removed]"
     },
     "metadata": {
      "needs_background": "light"
     },
     "output_type": "display_data"
    }
   ],
   "source": [
    "import matplotlib.pyplot as plt\n",
    "\n",
    "fig = plt.figure()\n",
    "axes = fig.add_subplot(111)\n",
    "cmap = plt.get_cmap('gnuplot')\n",
    "columns = data_features.shape[1]\n",
    "colors = [cmap(i/columns) for i in cover_data['target'][random_indices]]\n",
    "line = axes.scatter(x, y, marker='x', color=colors)\n",
    "\n",
    "plt.show()"
   ],
   "metadata": {
    "collapsed": false,
    "pycharm": {
     "name": "#%%\n"
    }
   }
  },
  {
   "cell_type": "markdown",
   "source": [
    "#### Implementacja klasyfikatora kNN"
   ],
   "metadata": {
    "collapsed": false,
    "pycharm": {
     "name": "#%% md\n"
    }
   }
  },
  {
   "cell_type": "code",
   "execution_count": 4,
   "outputs": [
    {
     "name": "stdout",
     "output_type": "stream",
     "text": [
      "(389278, 54)\n",
      "(389278,)\n",
      "(191734, 54)\n",
      "(191734,)\n"
     ]
    }
   ],
   "source": [
    "import sklearn.model_selection as sks\n",
    "\n",
    "training_set, test_set, training_labels, test_labels = sks.train_test_split(cover_data['data'], cover_data['target'], test_size=0.33, random_state=3)\n",
    "\n",
    "print(training_set.shape)\n",
    "print(training_labels.shape)\n",
    "print(test_set.shape)\n",
    "print(test_labels.shape)"
   ],
   "metadata": {
    "collapsed": false,
    "pycharm": {
     "name": "#%%\n"
    }
   }
  },
  {
   "cell_type": "code",
   "execution_count": 8,
   "outputs": [
    {
     "name": "stdout",
     "output_type": "stream",
     "text": [
      "2\n"
     ]
    }
   ],
   "source": [
    "def knn_classifier(i : int, k : int) -> int:\n",
    "    tile = np.tile(test_set[i], (np.shape(training_set)[0], 1))\n",
    "    distances = np.sum((tile - training_set) ** 2, axis=1)\n",
    "    sorted_indices = np.argsort(distances)[0:k]\n",
    "    nearest_neighbors = np.array(training_labels)[sorted_indices]\n",
    "    return max(nearest_neighbors)\n",
    "\n",
    "\n",
    "k = 3\n",
    "sample_i = 444\n",
    "neighbor = knn_classifier(sample_i, k)\n",
    "print(neighbor)"
   ],
   "metadata": {
    "collapsed": false,
    "pycharm": {
     "name": "#%%\n"
    }
   }
  },
  {
   "cell_type": "code",
   "execution_count": 29,
   "outputs": [],
   "source": [
    "slice_v = 20_000\n",
    "test_set_slice = test_set[0:slice_v]\n",
    "test_labels_slice = test_labels[0:slice_v]\n",
    "training_set_slice = training_set[0:slice_v]\n",
    "training_labels_slice = training_labels[0:slice_v]"
   ],
   "metadata": {
    "collapsed": false,
    "pycharm": {
     "name": "#%%\n"
    }
   }
  },
  {
   "cell_type": "code",
   "execution_count": 30,
   "outputs": [
    {
     "name": "stdout",
     "output_type": "stream",
     "text": [
      "....................\n",
      "[1 1 2 2 1 1 6 1 1 2 1 2 2 2 2 2 1 2 2 7]\n",
      "[1 1 2 2 1 1 3 1 1 1 1 2 2 2 2 2 1 2 2 7]\n"
     ]
    }
   ],
   "source": [
    "import time as tm\n",
    "\n",
    "def print_dots(j : int, mod : int):\n",
    "    if j % mod == 0:\n",
    "        print('.', end='')\n",
    "\n",
    "\n",
    "def knn_classifier_all(k : int) -> np.array:\n",
    "    results = []\n",
    "\n",
    "    for i in range(len(test_set_slice)):\n",
    "        tile = np.tile(test_set_slice[i], (np.shape(training_set_slice)[0], 1))\n",
    "        distances = np.sum((tile - training_set_slice) ** 2, axis=1)\n",
    "        sorted_indices = np.argsort(distances)[0:k]\n",
    "        nearest_neighbors = np.array(training_labels_slice)[sorted_indices]\n",
    "        results.append(max(nearest_neighbors))\n",
    "        print_dots(i, 1000)\n",
    "\n",
    "    return np.array(results)\n",
    "\n",
    "\n",
    "start_pred_1 = tm.time()\n",
    "prediction_1 = knn_classifier_all(k)\n",
    "elapsed_pred_1 = tm.time() - start_pred_1\n",
    "print()\n",
    "print(prediction_1[0:20])\n",
    "print(test_labels[0:20])"
   ],
   "metadata": {
    "collapsed": false,
    "pycharm": {
     "name": "#%%\n"
    }
   }
  },
  {
   "cell_type": "code",
   "execution_count": 31,
   "outputs": [
    {
     "name": "stdout",
     "output_type": "stream",
     "text": [
      "[1 1 2 2 1 1 3 1 1 2 1 2 2 1 2 2 1 2 1 7]\n",
      "[1 1 2 2 1 1 3 1 1 1 1 2 2 2 2 2 1 2 2 7]\n"
     ]
    }
   ],
   "source": [
    "import sklearn.neighbors as skn\n",
    "\n",
    "start_pred_2 = tm.time()\n",
    "skn_classifier = skn.KNeighborsClassifier(n_neighbors=k)\n",
    "skn_classifier.fit(training_set_slice, training_labels_slice)\n",
    "prediction_2 = skn_classifier.predict(test_set_slice)\n",
    "elapsed_pred_2 = tm.time() - start_pred_2\n",
    "print(prediction_2[0:20])\n",
    "print(test_labels[0:20])"
   ],
   "metadata": {
    "collapsed": false,
    "pycharm": {
     "name": "#%%\n"
    }
   }
  },
  {
   "cell_type": "markdown",
   "source": [
    "#### Porównanie wyników klasyfikacji kNN"
   ],
   "metadata": {
    "collapsed": false,
    "pycharm": {
     "name": "#%% md\n"
    }
   }
  },
  {
   "cell_type": "code",
   "execution_count": 32,
   "outputs": [
    {
     "name": "stdout",
     "output_type": "stream",
     "text": [
      "146.99129724502563\n",
      "80096\n",
      "\n",
      "1.6426820755004883\n",
      "160\n"
     ]
    }
   ],
   "source": [
    "import sys as sy\n",
    "\n",
    "print(elapsed_pred_1)\n",
    "print(sy.getsizeof(prediction_1))\n",
    "print()\n",
    "print(elapsed_pred_2)\n",
    "print(sy.getsizeof(skn_classifier) + sy.getsizeof(prediction_2))"
   ],
   "metadata": {
    "collapsed": false,
    "pycharm": {
     "name": "#%%\n"
    }
   }
  },
  {
   "cell_type": "code",
   "execution_count": 33,
   "outputs": [
    {
     "name": "stdout",
     "output_type": "stream",
     "text": [
      "76.25 %\n",
      "82.1 %\n"
     ]
    }
   ],
   "source": [
    "import sklearn.metrics as skt\n",
    "\n",
    "accuracy_1 = skt.accuracy_score(test_labels_slice, prediction_1)\n",
    "accuracy_2 = skt.accuracy_score(test_labels_slice, prediction_2)\n",
    "print(accuracy_1 * 100, '%')\n",
    "print(accuracy_2 * 100, '%')"
   ],
   "metadata": {
    "collapsed": false,
    "pycharm": {
     "name": "#%%\n"
    }
   }
  },
  {
   "cell_type": "code",
   "execution_count": 34,
   "outputs": [
    {
     "data": {
      "text/plain": "predicted     1     2    3   4    5    6    7\nactual                                       \n1          4203  2624    7   0   72    5  277\n2           252  8752  273   1  333  193   40\n3             0    38  856  48   16  311    0\n4             0     0   11  67    0   27    0\n5             4    57    6   0  245    8    1\n6             0    24   67   5    3  525    0\n7            33    14    0   0    0    0  602",
      "text/html": "<div>\n<style scoped>\n    .dataframe tbody tr th:only-of-type {\n        vertical-align: middle;\n    }\n\n    .dataframe tbody tr th {\n        vertical-align: top;\n    }\n\n    .dataframe thead th {\n        text-align: right;\n    }\n</style>\n<table border=\"1\" class=\"dataframe\">\n  <thead>\n    <tr style=\"text-align: right;\">\n      <th>predicted</th>\n      <th>1</th>\n      <th>2</th>\n      <th>3</th>\n      <th>4</th>\n      <th>5</th>\n      <th>6</th>\n      <th>7</th>\n    </tr>\n    <tr>\n      <th>actual</th>\n      <th></th>\n      <th></th>\n      <th></th>\n      <th></th>\n      <th></th>\n      <th></th>\n      <th></th>\n    </tr>\n  </thead>\n  <tbody>\n    <tr>\n      <th>1</th>\n      <td>4203</td>\n      <td>2624</td>\n      <td>7</td>\n      <td>0</td>\n      <td>72</td>\n      <td>5</td>\n      <td>277</td>\n    </tr>\n    <tr>\n      <th>2</th>\n      <td>252</td>\n      <td>8752</td>\n      <td>273</td>\n      <td>1</td>\n      <td>333</td>\n      <td>193</td>\n      <td>40</td>\n    </tr>\n    <tr>\n      <th>3</th>\n      <td>0</td>\n      <td>38</td>\n      <td>856</td>\n      <td>48</td>\n      <td>16</td>\n      <td>311</td>\n      <td>0</td>\n    </tr>\n    <tr>\n      <th>4</th>\n      <td>0</td>\n      <td>0</td>\n      <td>11</td>\n      <td>67</td>\n      <td>0</td>\n      <td>27</td>\n      <td>0</td>\n    </tr>\n    <tr>\n      <th>5</th>\n      <td>4</td>\n      <td>57</td>\n      <td>6</td>\n      <td>0</td>\n      <td>245</td>\n      <td>8</td>\n      <td>1</td>\n    </tr>\n    <tr>\n      <th>6</th>\n      <td>0</td>\n      <td>24</td>\n      <td>67</td>\n      <td>5</td>\n      <td>3</td>\n      <td>525</td>\n      <td>0</td>\n    </tr>\n    <tr>\n      <th>7</th>\n      <td>33</td>\n      <td>14</td>\n      <td>0</td>\n      <td>0</td>\n      <td>0</td>\n      <td>0</td>\n      <td>602</td>\n    </tr>\n  </tbody>\n</table>\n</div>"
     },
     "execution_count": 34,
     "metadata": {},
     "output_type": "execute_result"
    }
   ],
   "source": [
    "import pandas as pd\n",
    "\n",
    "actual_series = pd.Series(test_labels_slice, name='actual')\n",
    "predicted_series_1 = pd.Series(prediction_1, name='predicted')\n",
    "confusion_matrix_1 = pd.crosstab(actual_series, predicted_series_1)\n",
    "confusion_matrix_1"
   ],
   "metadata": {
    "collapsed": false,
    "pycharm": {
     "name": "#%%\n"
    }
   }
  },
  {
   "cell_type": "code",
   "execution_count": 35,
   "outputs": [
    {
     "data": {
      "text/plain": "predicted     1     2    3   4    5    6    7\nactual                                       \n1          5895  1211    1   0    9    0   72\n2          1158  8479   98   0   65   40    4\n3             6   156  992  15    1   99    0\n4             0     2   43  53    0    7    0\n5            34   141    8   0  136    2    0\n6            10   107  136   5    3  363    0\n7           127    20    0   0    0    0  502",
      "text/html": "<div>\n<style scoped>\n    .dataframe tbody tr th:only-of-type {\n        vertical-align: middle;\n    }\n\n    .dataframe tbody tr th {\n        vertical-align: top;\n    }\n\n    .dataframe thead th {\n        text-align: right;\n    }\n</style>\n<table border=\"1\" class=\"dataframe\">\n  <thead>\n    <tr style=\"text-align: right;\">\n      <th>predicted</th>\n      <th>1</th>\n      <th>2</th>\n      <th>3</th>\n      <th>4</th>\n      <th>5</th>\n      <th>6</th>\n      <th>7</th>\n    </tr>\n    <tr>\n      <th>actual</th>\n      <th></th>\n      <th></th>\n      <th></th>\n      <th></th>\n      <th></th>\n      <th></th>\n      <th></th>\n    </tr>\n  </thead>\n  <tbody>\n    <tr>\n      <th>1</th>\n      <td>5895</td>\n      <td>1211</td>\n      <td>1</td>\n      <td>0</td>\n      <td>9</td>\n      <td>0</td>\n      <td>72</td>\n    </tr>\n    <tr>\n      <th>2</th>\n      <td>1158</td>\n      <td>8479</td>\n      <td>98</td>\n      <td>0</td>\n      <td>65</td>\n      <td>40</td>\n      <td>4</td>\n    </tr>\n    <tr>\n      <th>3</th>\n      <td>6</td>\n      <td>156</td>\n      <td>992</td>\n      <td>15</td>\n      <td>1</td>\n      <td>99</td>\n      <td>0</td>\n    </tr>\n    <tr>\n      <th>4</th>\n      <td>0</td>\n      <td>2</td>\n      <td>43</td>\n      <td>53</td>\n      <td>0</td>\n      <td>7</td>\n      <td>0</td>\n    </tr>\n    <tr>\n      <th>5</th>\n      <td>34</td>\n      <td>141</td>\n      <td>8</td>\n      <td>0</td>\n      <td>136</td>\n      <td>2</td>\n      <td>0</td>\n    </tr>\n    <tr>\n      <th>6</th>\n      <td>10</td>\n      <td>107</td>\n      <td>136</td>\n      <td>5</td>\n      <td>3</td>\n      <td>363</td>\n      <td>0</td>\n    </tr>\n    <tr>\n      <th>7</th>\n      <td>127</td>\n      <td>20</td>\n      <td>0</td>\n      <td>0</td>\n      <td>0</td>\n      <td>0</td>\n      <td>502</td>\n    </tr>\n  </tbody>\n</table>\n</div>"
     },
     "execution_count": 35,
     "metadata": {},
     "output_type": "execute_result"
    }
   ],
   "source": [
    "predicted_series_2 = pd.Series(prediction_2, name='predicted')\n",
    "confusion_matrix_2 = pd.crosstab(actual_series, predicted_series_2)\n",
    "confusion_matrix_2"
   ],
   "metadata": {
    "collapsed": false,
    "pycharm": {
     "name": "#%%\n"
    }
   }
  },
  {
   "cell_type": "markdown",
   "source": [
    "Wersja sklearn algorytmu NN jest zasadniczo lepiej zoptymalizowana. Osiąga również lepsze rezultaty dla tych samych danych treningowych."
   ],
   "metadata": {
    "collapsed": false,
    "pycharm": {
     "name": "#%% md\n"
    }
   }
  },
  {
   "cell_type": "markdown",
   "source": [
    "#### Implementacja klasyfikator NM"
   ],
   "metadata": {
    "collapsed": false,
    "pycharm": {
     "name": "#%% md\n"
    }
   }
  },
  {
   "cell_type": "code",
   "execution_count": 55,
   "outputs": [
    {
     "name": "stdout",
     "output_type": "stream",
     "text": [
      "(3, 54)\n",
      "[2 1 1 1 1 1 1 1 1 1 2 0 1 0 1 1 0 2 2 0]\n",
      "[1 1 2 2 1 1 3 1 1 1 1 2 2 2 2 2 1 2 2 7]\n"
     ]
    }
   ],
   "source": [
    "import sklearn.cluster as skc\n",
    "\n",
    "start_pred_3 = tm.time()\n",
    "k_means = skc.KMeans(n_clusters=k)\n",
    "k_means.fit(training_set_slice, training_labels_slice, sample_weight=0.6)\n",
    "prediction_3 = k_means.predict(test_set_slice, sample_weight=0.4)\n",
    "elapsed_pred_3 = tm.time() - start_pred_3\n",
    "print(k_means.cluster_centers_.shape)\n",
    "print(prediction_3[0:20])\n",
    "print(test_labels[0:20])"
   ],
   "metadata": {
    "collapsed": false,
    "pycharm": {
     "name": "#%%\n"
    }
   }
  },
  {
   "cell_type": "markdown",
   "source": [
    "#### Porównanie wyników klasyfikacji k_means"
   ],
   "metadata": {
    "collapsed": false,
    "pycharm": {
     "name": "#%% md\n"
    }
   }
  },
  {
   "cell_type": "code",
   "execution_count": 56,
   "outputs": [
    {
     "name": "stdout",
     "output_type": "stream",
     "text": [
      "146.99129724502563\n",
      "80096\n",
      "\n",
      "1.6426820755004883\n",
      "160\n",
      "\n",
      "1.126124382019043\n",
      "80160\n"
     ]
    }
   ],
   "source": [
    "print(elapsed_pred_1)\n",
    "print(sy.getsizeof(prediction_1))\n",
    "print()\n",
    "print(elapsed_pred_2)\n",
    "print(sy.getsizeof(skn_classifier) + sy.getsizeof(prediction_2))\n",
    "print()\n",
    "print(elapsed_pred_3)\n",
    "print(sy.getsizeof(k_means) + sy.getsizeof(prediction_3))"
   ],
   "metadata": {
    "collapsed": false,
    "pycharm": {
     "name": "#%%\n"
    }
   }
  },
  {
   "cell_type": "code",
   "execution_count": 57,
   "outputs": [
    {
     "name": "stdout",
     "output_type": "stream",
     "text": [
      "76.25 %\n",
      "82.1 %\n",
      "31.665 %\n"
     ]
    }
   ],
   "source": [
    "accuracy_1 = skt.accuracy_score(test_labels_slice, prediction_1)\n",
    "accuracy_2 = skt.accuracy_score(test_labels_slice, prediction_2)\n",
    "accuracy_3 = skt.accuracy_score(test_labels_slice, prediction_3)\n",
    "print(accuracy_1 * 100, '%')\n",
    "print(accuracy_2 * 100, '%')\n",
    "print(accuracy_3 * 100, '%')"
   ],
   "metadata": {
    "collapsed": false,
    "pycharm": {
     "name": "#%%\n"
    }
   }
  },
  {
   "cell_type": "code",
   "execution_count": 58,
   "outputs": [
    {
     "data": {
      "text/plain": "predicted     0     1     2\nactual                     \n1           816  3899  2473\n2          1451  5959  2434\n3             0  1257    12\n4             0   105     0\n5             6   296    19\n6             0   622     2\n7           110   320   219",
      "text/html": "<div>\n<style scoped>\n    .dataframe tbody tr th:only-of-type {\n        vertical-align: middle;\n    }\n\n    .dataframe tbody tr th {\n        vertical-align: top;\n    }\n\n    .dataframe thead th {\n        text-align: right;\n    }\n</style>\n<table border=\"1\" class=\"dataframe\">\n  <thead>\n    <tr style=\"text-align: right;\">\n      <th>predicted</th>\n      <th>0</th>\n      <th>1</th>\n      <th>2</th>\n    </tr>\n    <tr>\n      <th>actual</th>\n      <th></th>\n      <th></th>\n      <th></th>\n    </tr>\n  </thead>\n  <tbody>\n    <tr>\n      <th>1</th>\n      <td>816</td>\n      <td>3899</td>\n      <td>2473</td>\n    </tr>\n    <tr>\n      <th>2</th>\n      <td>1451</td>\n      <td>5959</td>\n      <td>2434</td>\n    </tr>\n    <tr>\n      <th>3</th>\n      <td>0</td>\n      <td>1257</td>\n      <td>12</td>\n    </tr>\n    <tr>\n      <th>4</th>\n      <td>0</td>\n      <td>105</td>\n      <td>0</td>\n    </tr>\n    <tr>\n      <th>5</th>\n      <td>6</td>\n      <td>296</td>\n      <td>19</td>\n    </tr>\n    <tr>\n      <th>6</th>\n      <td>0</td>\n      <td>622</td>\n      <td>2</td>\n    </tr>\n    <tr>\n      <th>7</th>\n      <td>110</td>\n      <td>320</td>\n      <td>219</td>\n    </tr>\n  </tbody>\n</table>\n</div>"
     },
     "execution_count": 58,
     "metadata": {},
     "output_type": "execute_result"
    }
   ],
   "source": [
    "predicted_series_3 = pd.Series(prediction_3, name='predicted')\n",
    "confusion_matrix_3 = pd.crosstab(actual_series, predicted_series_3)\n",
    "confusion_matrix_3"
   ],
   "metadata": {
    "collapsed": false,
    "pycharm": {
     "name": "#%%\n"
    }
   }
  },
  {
   "cell_type": "markdown",
   "source": [
    "Macosza wersja kNM zajmuje pamięć porównywalnie z naiwną klasyfikacją kNN i jednocześnie dokonuje tego w podobnych czasie. Patrząc na wyniki skuteczności (accuracy) - nie wyszło."
   ],
   "metadata": {
    "collapsed": false,
    "pycharm": {
     "name": "#%% md\n"
    }
   }
  },
  {
   "cell_type": "markdown",
   "source": [
    "#### Reprezentacja danych GTSRB"
   ],
   "metadata": {
    "collapsed": false,
    "pycharm": {
     "name": "#%% md\n"
    }
   }
  },
  {
   "cell_type": "code",
   "execution_count": 4,
   "outputs": [
    {
     "name": "stdout",
     "output_type": "stream",
     "text": [
      "(39209,)\n",
      "(39209,)\n"
     ]
    }
   ],
   "source": [
    "import matplotlib.pyplot as plt\n",
    "import numpy as np\n",
    "import csv\n",
    "import os\n",
    "\n",
    "\n",
    "def read_traffic_sign(path : str) -> zip:\n",
    "    classes_no = 42\n",
    "    images = []\n",
    "    labels = []\n",
    "\n",
    "    for cls in range(classes_no + 1):\n",
    "        catalogue_number = str(format(cls, '05d'))\n",
    "        prefix = os.path.join(path, catalogue_number)\n",
    "        gt_filename = 'GT-' + catalogue_number + '.csv'\n",
    "        gt_filename = os.path.join(prefix, gt_filename)\n",
    "        gt_file = open(gt_filename)\n",
    "        gt_reader = csv.reader(gt_file, delimiter=';')\n",
    "        next(gt_reader)\n",
    "\n",
    "        for row in gt_reader:\n",
    "            x1, y1, x2, y2 = map(int, row[3:7])\n",
    "            img_filename = os.path.join(prefix, row[0])\n",
    "            images.append(plt.imread(img_filename)[x1:x2, y1:y2])\n",
    "            cls_id = map(int, row[7])\n",
    "            labels.append(cls_id)\n",
    "\n",
    "        gt_file.close()\n",
    "\n",
    "    return np.array(images), np.array(labels)\n",
    "\n",
    "\n",
    "database_path = r'../../data/GTSRB/Final_Training/Images/'\n",
    "ts_images, ts_labels = read_traffic_sign(database_path)\n",
    "print(ts_images.shape)\n",
    "print(ts_labels.shape)"
   ],
   "metadata": {
    "collapsed": false,
    "pycharm": {
     "name": "#%%\n"
    }
   }
  },
  {
   "cell_type": "code",
   "execution_count": 5,
   "outputs": [
    {
     "name": "stdout",
     "output_type": "stream",
     "text": [
      "(26270,)\n",
      "(12939,)\n",
      "(26270,)\n",
      "(12939,)\n"
     ]
    }
   ],
   "source": [
    "import sklearn.model_selection as skms\n",
    "\n",
    "ts_training_set, ts_test_set, ts_training_labels, ts_test_labels = skms.train_test_split(ts_images, ts_labels, test_size=0.33, random_state=3)\n",
    "print(ts_training_set.shape)\n",
    "print(ts_test_set.shape)\n",
    "print(ts_training_labels.shape)\n",
    "print(ts_test_labels.shape)"
   ],
   "metadata": {
    "collapsed": false,
    "pycharm": {
     "name": "#%%\n"
    }
   }
  },
  {
   "cell_type": "code",
   "execution_count": 6,
   "outputs": [
    {
     "name": "stdout",
     "output_type": "stream",
     "text": [
      "[77136, 89308, 70692]\n"
     ]
    }
   ],
   "source": [
    "img = ts_images[100]\n",
    "r = np.array(img[:, :, 0]) << 4\n",
    "g = np.array(img[:, :, 1]) << 2\n",
    "b = img[:, :, 2]\n",
    "rgb_sums = [np.sum(r), np.sum(g), np.sum(b)]\n",
    "print(rgb_sums)"
   ],
   "metadata": {
    "collapsed": false,
    "pycharm": {
     "name": "#%%\n"
    }
   }
  },
  {
   "cell_type": "code",
   "execution_count": 7,
   "outputs": [
    {
     "name": "stdout",
     "output_type": "stream",
     "text": [
      "(39209, 3)\n",
      "(26270, 3)\n",
      "(12939, 3)\n"
     ]
    }
   ],
   "source": [
    "def img_rgb_to_vec_int(ts_img : np.array) -> np.array:\n",
    "    results = []\n",
    "\n",
    "    for j in range(ts_img.shape[0]):\n",
    "        _img = ts_img[j]\n",
    "        _r = np.array(_img[:, :, 0]) << 4\n",
    "        _g = np.array(_img[:, :, 1]) << 2\n",
    "        _b = _img[:, :, 2]\n",
    "        _rgb_sums = [np.sum(_r), np.sum(_g), np.sum(_b)]\n",
    "        results.append(_rgb_sums)\n",
    "\n",
    "    return np.array(results)\n",
    "\n",
    "\n",
    "image_features = img_rgb_to_vec_int(ts_images)\n",
    "training_vector = img_rgb_to_vec_int(ts_training_set)\n",
    "test_vector = img_rgb_to_vec_int(ts_test_set)\n",
    "print(image_features.shape)\n",
    "print(training_vector.shape)\n",
    "print(test_vector.shape)"
   ],
   "metadata": {
    "collapsed": false,
    "pycharm": {
     "name": "#%%\n"
    }
   }
  },
  {
   "cell_type": "code",
   "execution_count": 8,
   "outputs": [
    {
     "name": "stdout",
     "output_type": "stream",
     "text": [
      "(3000,)\n",
      "(3000,)\n"
     ]
    }
   ],
   "source": [
    "import random as rnd\n",
    "import sklearn.manifold as skm\n",
    "\n",
    "random_indices = np.array(rnd.sample(range(len(image_features)), 3000))\n",
    "model = skm.TSNE(learning_rate=100)\n",
    "transformed = model.fit_transform(image_features[random_indices])\n",
    "x = transformed[:, 0]\n",
    "y = transformed[:, 1]\n",
    "print(x.shape)\n",
    "print(y.shape)"
   ],
   "metadata": {
    "collapsed": false,
    "pycharm": {
     "name": "#%%\n"
    }
   }
  },
  {
   "cell_type": "code",
   "execution_count": 28,
   "outputs": [
    {
     "data": {
      "text/plain": "<Figure size 432x288 with 1 Axes>",
      "image/png": "[encoded data removed]"
     },
     "metadata": {
      "needs_background": "light"
     },
     "output_type": "display_data"
    }
   ],
   "source": [
    "fig = plt.figure()\n",
    "axes = fig.add_subplot(111)\n",
    "cmap = plt.get_cmap('gnuplot')\n",
    "columns = image_features.shape[1]\n",
    "axes.scatter(x, y, marker='x')\n",
    "plt.show()"
   ],
   "metadata": {
    "collapsed": false,
    "pycharm": {
     "name": "#%%\n"
    }
   }
  },
  {
   "cell_type": "code",
   "execution_count": 29,
   "outputs": [
    {
     "name": "stdout",
     "output_type": "stream",
     "text": [
      "[NbConvertApp] Converting notebook lab2.ipynb to pdf\r\n",
      "[NbConvertApp] Support files will be in lab2_files/\r\n",
      "[NbConvertApp] Making directory ./lab2_files\r\n",
      "[NbConvertApp] Making directory ./lab2_files\r\n",
      "[NbConvertApp] Writing 56308 bytes to ./notebook.tex\r\n",
      "[NbConvertApp] Building PDF\r\n",
      "[NbConvertApp] Running xelatex 3 times: ['xelatex', './notebook.tex', '-quiet']\r\n",
      "[NbConvertApp] Running bibtex 1 time: ['bibtex', './notebook']\r\n",
      "[NbConvertApp] WARNING | bibtex had problems, most likely because there were no citations\r\n",
      "[NbConvertApp] PDF successfully created\r\n",
      "[NbConvertApp] Writing 111457 bytes to lab2.pdf\r\n"
     ]
    }
   ],
   "source": [
    "!jupyter nbconvert --to pdf lab2.ipynb"
   ],
   "metadata": {
    "collapsed": false,
    "pycharm": {
     "name": "#%%\n"
    }
   }
  }
 ],
 "metadata": {
  "kernelspec": {
   "display_name": "Python 3",
   "language": "python",
   "name": "python3"
  },
  "language_info": {
   "codemirror_mode": {
    "name": "ipython",
    "version": 2
   },
   "file_extension": ".py",
   "mimetype": "text/x-python",
   "name": "python",
   "nbconvert_exporter": "python",
   "pygments_lexer": "ipython2",
   "version": "2.7.6"
  }
 },
 "nbformat": 4,
 "nbformat_minor": 0
}