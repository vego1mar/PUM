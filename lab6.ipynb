{
 "cells": [
  {
   "cell_type": "markdown",
   "metadata": {
    "collapsed": true,
    "pycharm": {
     "name": "#%% md\n"
    }
   },
   "source": [
    "### Wczytanie zbioru danych"
   ]
  },
  {
   "cell_type": "code",
   "execution_count": 90,
   "outputs": [
    {
     "name": "stdout",
     "output_type": "stream",
     "text": [
      "(5572, 2)\n"
     ]
    }
   ],
   "source": [
    "import csv\n",
    "import pandas as pd\n",
    "\n",
    "\n",
    "def read_csv_file_data(csv_file):\n",
    "    lines = []\n",
    "\n",
    "    with open(csv_file, newline='') as file:\n",
    "        reader = csv.reader(file, delimiter='\\t')\n",
    "\n",
    "        for row in reader:\n",
    "            lines.append(row)\n",
    "\n",
    "    header = ['label', 'message']\n",
    "    return pd.DataFrame(data=lines, columns=header)\n",
    "\n",
    "\n",
    "CSV_FILE_NAME = './../../data/SMS_Spam_Collection/SMSSpamCollection'\n",
    "df_sms = read_csv_file_data(CSV_FILE_NAME)\n",
    "print(df_sms.shape)"
   ],
   "metadata": {
    "collapsed": false,
    "pycharm": {
     "name": "#%%\n"
    }
   }
  },
  {
   "cell_type": "code",
   "execution_count": 91,
   "outputs": [
    {
     "data": {
      "text/plain": "  label                                            message\n0   ham  Go until jurong point, crazy.. Available only ...\n1   ham                      Ok lar... Joking wif u oni...\n2  spam  Free entry in 2 a wkly comp to win FA Cup fina...\n3   ham  U dun say so early hor... U c already then say...\n4   ham  Nah I don't think he goes to usf, he lives aro...",
      "text/html": "<div>\n<style scoped>\n    .dataframe tbody tr th:only-of-type {\n        vertical-align: middle;\n    }\n\n    .dataframe tbody tr th {\n        vertical-align: top;\n    }\n\n    .dataframe thead th {\n        text-align: right;\n    }\n</style>\n<table border=\"1\" class=\"dataframe\">\n  <thead>\n    <tr style=\"text-align: right;\">\n      <th></th>\n      <th>label</th>\n      <th>message</th>\n    </tr>\n  </thead>\n  <tbody>\n    <tr>\n      <th>0</th>\n      <td>ham</td>\n      <td>Go until jurong point, crazy.. Available only ...</td>\n    </tr>\n    <tr>\n      <th>1</th>\n      <td>ham</td>\n      <td>Ok lar... Joking wif u oni...</td>\n    </tr>\n    <tr>\n      <th>2</th>\n      <td>spam</td>\n      <td>Free entry in 2 a wkly comp to win FA Cup fina...</td>\n    </tr>\n    <tr>\n      <th>3</th>\n      <td>ham</td>\n      <td>U dun say so early hor... U c already then say...</td>\n    </tr>\n    <tr>\n      <th>4</th>\n      <td>ham</td>\n      <td>Nah I don't think he goes to usf, he lives aro...</td>\n    </tr>\n  </tbody>\n</table>\n</div>"
     },
     "execution_count": 91,
     "metadata": {},
     "output_type": "execute_result"
    }
   ],
   "source": [
    "df_sms.head()"
   ],
   "metadata": {
    "collapsed": false,
    "pycharm": {
     "name": "#%%\n"
    }
   }
  },
  {
   "cell_type": "code",
   "execution_count": 92,
   "outputs": [],
   "source": [
    "del CSV_FILE_NAME"
   ],
   "metadata": {
    "collapsed": false,
    "pycharm": {
     "name": "#%%\n"
    }
   }
  },
  {
   "cell_type": "markdown",
   "source": [
    "### Eksploracyjna analiza danych"
   ],
   "metadata": {
    "collapsed": false,
    "pycharm": {
     "name": "#%% md\n"
    }
   }
  },
  {
   "cell_type": "code",
   "execution_count": 93,
   "outputs": [
    {
     "name": "stdout",
     "output_type": "stream",
     "text": [
      "(4825,)\n",
      "(747,)\n"
     ]
    }
   ],
   "source": [
    "ham = df_sms[df_sms['label'] == 'ham']['message']\n",
    "spam = df_sms[df_sms['label'] == 'spam']['message']\n",
    "print(ham.shape)\n",
    "print(spam.shape)"
   ],
   "metadata": {
    "collapsed": false,
    "pycharm": {
     "name": "#%%\n"
    }
   }
  },
  {
   "cell_type": "code",
   "execution_count": 94,
   "outputs": [
    {
     "data": {
      "text/plain": "<Figure size 432x288 with 1 Axes>",
      "image/png": "[encoded data removed]"
     },
     "metadata": {
      "needs_background": "light"
     },
     "output_type": "display_data"
    }
   ],
   "source": [
    "import matplotlib.pyplot as plt\n",
    "import numpy as np\n",
    "\n",
    "\n",
    "def plot_class_proportions():\n",
    "    objects = ('ham', 'spam')\n",
    "    y_pos = np.arange(len(objects))\n",
    "    y = [ham.shape[0], spam.shape[0]]\n",
    "    plt.bar(y_pos, y, align='center')\n",
    "    plt.xticks(y_pos, objects)\n",
    "    plt.show()\n",
    "\n",
    "\n",
    "plot_class_proportions()"
   ],
   "metadata": {
    "collapsed": false,
    "pycharm": {
     "name": "#%%\n"
    }
   }
  },
  {
   "cell_type": "code",
   "execution_count": 95,
   "outputs": [
    {
     "name": "stdout",
     "output_type": "stream",
     "text": [
      "86.59368269921033 %\n",
      "13.406317300789663 %\n"
     ]
    }
   ],
   "source": [
    "p_all = df_sms.shape[0]\n",
    "p_ham = (ham.shape[0] / p_all) * 100\n",
    "p_spam = (spam.shape[0] / p_all) * 100\n",
    "print(p_ham, '%')\n",
    "print(p_spam, '%')"
   ],
   "metadata": {
    "collapsed": false,
    "pycharm": {
     "name": "#%%\n"
    }
   }
  },
  {
   "cell_type": "markdown",
   "source": [
    "- 87 % (4825) danych stanowią dane \"poprawne\"\n",
    "- 13 % (747) danych stanowi spam"
   ],
   "metadata": {
    "collapsed": false,
    "pycharm": {
     "name": "#%% md\n"
    }
   }
  },
  {
   "cell_type": "code",
   "execution_count": 96,
   "outputs": [],
   "source": [
    "del p_ham\n",
    "del p_spam\n",
    "del p_all"
   ],
   "metadata": {
    "collapsed": false,
    "pycharm": {
     "name": "#%%\n"
    }
   }
  },
  {
   "cell_type": "code",
   "execution_count": 97,
   "outputs": [
    {
     "name": "stdout",
     "output_type": "stream",
     "text": [
      "(684,)\n"
     ]
    }
   ],
   "source": [
    "duplicated = df_sms[df_sms.duplicated(subset=['message'], keep=False)]['message']\n",
    "print(duplicated.shape)"
   ],
   "metadata": {
    "collapsed": false,
    "pycharm": {
     "name": "#%%\n"
    }
   }
  },
  {
   "cell_type": "code",
   "execution_count": 98,
   "outputs": [
    {
     "data": {
      "text/plain": "<Figure size 432x288 with 1 Axes>",
      "image/png": "[encoded data removed]"
     },
     "metadata": {
      "needs_background": "light"
     },
     "output_type": "display_data"
    }
   ],
   "source": [
    "def plot_unique_duplication_relation():\n",
    "    objects = ('unique', 'duplicated')\n",
    "    y_pos = np.arange(len(objects))\n",
    "    y = [df_sms.shape[0] - duplicated.shape[0], duplicated.shape[0]]\n",
    "    plt.bar(y_pos, y, align='center')\n",
    "    plt.xticks(y_pos, objects)\n",
    "    plt.show()\n",
    "\n",
    "\n",
    "plot_unique_duplication_relation()"
   ],
   "metadata": {
    "collapsed": false,
    "pycharm": {
     "name": "#%%\n"
    }
   }
  },
  {
   "cell_type": "code",
   "execution_count": 99,
   "outputs": [],
   "source": [
    "def count_duplicates_by_labels(_df, _ham, _spam, dup):\n",
    "    _dup_count = []\n",
    "\n",
    "    for i in range(0, len(dup)):\n",
    "        _tmp = _df[_df['message'] == dup.values[i]]\n",
    "        _count = _tmp.shape[0]\n",
    "        _labels_count = _tmp['label'].value_counts()\n",
    "        _is_in_all_classes = False\n",
    "\n",
    "        if _labels_count.shape != (1,):\n",
    "            _is_in_all_classes = True\n",
    "\n",
    "        _dup_count.append([_tmp['message'], _count, _is_in_all_classes])\n",
    "\n",
    "    header = ['message', 'duplicates', 'is_crossed']\n",
    "    return pd.DataFrame(data=_dup_count, columns=header)\n",
    "\n",
    "\n",
    "df_l = count_duplicates_by_labels(df_sms, ham, spam, duplicated)"
   ],
   "metadata": {
    "collapsed": false,
    "pycharm": {
     "name": "#%%\n"
    }
   }
  },
  {
   "cell_type": "code",
   "execution_count": 100,
   "outputs": [
    {
     "name": "stdout",
     "output_type": "stream",
     "text": [
      "(0,)\n"
     ]
    }
   ],
   "source": [
    "crossed = df_l[df_l['is_crossed'] == True]['is_crossed']\n",
    "print(crossed.shape)"
   ],
   "metadata": {
    "collapsed": false,
    "pycharm": {
     "name": "#%%\n"
    }
   }
  },
  {
   "cell_type": "code",
   "execution_count": 101,
   "outputs": [
    {
     "name": "stdout",
     "output_type": "stream",
     "text": [
      "30\n"
     ]
    }
   ],
   "source": [
    "max_dup_no = df_l['duplicates'].max()\n",
    "print(max_dup_no)"
   ],
   "metadata": {
    "collapsed": false,
    "pycharm": {
     "name": "#%%\n"
    }
   }
  },
  {
   "cell_type": "code",
   "execution_count": 102,
   "outputs": [
    {
     "data": {
      "text/plain": "<Figure size 432x288 with 1 Axes>",
      "image/png": "[encoded data removed]"
     },
     "metadata": {
      "needs_background": "light"
     },
     "output_type": "display_data"
    }
   ],
   "source": [
    "import numpy as np\n",
    "import matplotlib.pyplot as plt\n",
    "\n",
    "\n",
    "def plot_duplicates_occurrences(y):\n",
    "    y_pos = np.arange(len(y))\n",
    "    plt.bar(y_pos, y, align='center')\n",
    "    plt.title('Number of duplicates occurrences')\n",
    "    plt.show()\n",
    "\n",
    "\n",
    "dup_no = list(set(df_l['duplicates']))\n",
    "plot_duplicates_occurrences(dup_no)"
   ],
   "metadata": {
    "collapsed": false,
    "pycharm": {
     "name": "#%%\n"
    }
   }
  },
  {
   "cell_type": "code",
   "execution_count": 103,
   "outputs": [
    {
     "name": "stdout",
     "output_type": "stream",
     "text": [
      "80    Sorry, I'll call later\n",
      "Name: message, dtype: object\n"
     ]
    }
   ],
   "source": [
    "most_frequent = df_l[(df_l['duplicates'] == max_dup_no)]['message']\n",
    "print(most_frequent.values[0][0:1])"
   ],
   "metadata": {
    "collapsed": false,
    "pycharm": {
     "name": "#%%\n"
    }
   }
  },
  {
   "cell_type": "markdown",
   "source": [
    "- 684 wiadomości się powtarzają (nie są unikatowe)\n",
    "- żadna ze zduplikowanych wiadomości nie występuje w obu klasach\n",
    "- największa ilość powtórzeń wiadomości zduplikowanej to 30\n",
    "- najczęściej powtarzającą się wiadomością zduplikowaną jest \"Sorry, I'll call later\""
   ],
   "metadata": {
    "collapsed": false,
    "pycharm": {
     "name": "#%% md\n"
    }
   }
  },
  {
   "cell_type": "code",
   "execution_count": 104,
   "outputs": [],
   "source": [
    "del duplicated\n",
    "del df_l\n",
    "del crossed\n",
    "del dup_no\n",
    "del max_dup_no\n",
    "del most_frequent"
   ],
   "metadata": {
    "collapsed": false,
    "pycharm": {
     "name": "#%%\n"
    }
   }
  },
  {
   "cell_type": "code",
   "execution_count": 105,
   "outputs": [
    {
     "name": "stdout",
     "output_type": "stream",
     "text": [
      "2\n",
      "910\n"
     ]
    }
   ],
   "source": [
    "def compute_messages_lengths(df):\n",
    "    _lengths = []\n",
    "\n",
    "    for index, row in df.iterrows():\n",
    "        _lengths.append(len(row['message']))\n",
    "\n",
    "    return _lengths\n",
    "\n",
    "\n",
    "msg_lengths = list(set(compute_messages_lengths(df_sms)))\n",
    "print(min(msg_lengths))\n",
    "print(max(msg_lengths))"
   ],
   "metadata": {
    "collapsed": false,
    "pycharm": {
     "name": "#%%\n"
    }
   }
  },
  {
   "cell_type": "code",
   "execution_count": 106,
   "outputs": [
    {
     "name": "stdout",
     "output_type": "stream",
     "text": [
      "Can a not?\n",
      "Ok no prob\n",
      "Anytime...\n",
      "East coast\n"
     ]
    }
   ],
   "source": [
    "def print_msg_filtered_by_length(df, length):\n",
    "    for index, row in df.iterrows():\n",
    "        if len(row['message']) == length:\n",
    "            print(row['message'])\n",
    "\n",
    "\n",
    "print_msg_filtered_by_length(df_sms, 10)"
   ],
   "metadata": {
    "collapsed": false,
    "pycharm": {
     "name": "#%%\n"
    }
   }
  },
  {
   "cell_type": "markdown",
   "source": [
    "- długości wiadomości się różnią\n",
    "- minimalna długość wiadomości to 2 znaki\n",
    "- maksymalna długość tekstu to 910 znaków"
   ],
   "metadata": {
    "collapsed": false,
    "pycharm": {
     "name": "#%% md\n"
    }
   }
  },
  {
   "cell_type": "code",
   "execution_count": 107,
   "outputs": [],
   "source": [
    "del msg_lengths"
   ],
   "metadata": {
    "collapsed": false,
    "pycharm": {
     "name": "#%%\n"
    }
   }
  },
  {
   "cell_type": "code",
   "execution_count": 108,
   "outputs": [
    {
     "name": "stdout",
     "output_type": "stream",
     "text": [
      "13044\n",
      "10288\n",
      "3849\n"
     ]
    }
   ],
   "source": [
    "def count_words(df, gc):\n",
    "    _counter = {}\n",
    "\n",
    "    for index, value in df.items():\n",
    "        _msg = str(value).split(' ')[1:-1]\n",
    "\n",
    "        for word in _msg:\n",
    "            if word in _counter:\n",
    "                _counter[word] += 1\n",
    "                gc[word] += 1\n",
    "            else:\n",
    "                _counter[word] = 1\n",
    "                gc[word] = 1\n",
    "\n",
    "    return gc, _counter\n",
    "\n",
    "\n",
    "gc = {}\n",
    "gc, hc = count_words(ham, gc)\n",
    "gc, sc = count_words(spam, gc)\n",
    "print(len(gc))\n",
    "print(len(hc))\n",
    "print(len(sc))"
   ],
   "metadata": {
    "collapsed": false,
    "pycharm": {
     "name": "#%%\n"
    }
   }
  },
  {
   "cell_type": "code",
   "execution_count": 109,
   "outputs": [
    {
     "name": "stdout",
     "output_type": "stream",
     "text": [
      "*** GLOBAL ***\n",
      "to             , 607\n",
      "               , 438\n",
      "a              , 360\n",
      "&lt;#&gt;      , 257\n",
      "your           , 186\n",
      "or             , 185\n",
      "call           , 180\n",
      "the            , 177\n",
      "for            , 169\n",
      "2              , 168\n",
      "you            , 160\n",
      "is             , 143\n",
      "on             , 135\n",
      "Call           , 130\n",
      "have           , 128\n",
      "he             , 127\n",
      "\n",
      "*** HAM ***\n",
      "to             , 1535\n",
      "you            , 1438\n",
      "I              , 1049\n",
      "the            , 1029\n",
      "a              , 977\n",
      "and            , 739\n",
      "in             , 731\n",
      "i              , 731\n",
      "u              , 644\n",
      "is             , 638\n",
      "my             , 620\n",
      "me             , 522\n",
      "of             , 499\n",
      "for            , 480\n",
      "               , 438\n",
      "that           , 386\n",
      "\n",
      "*** SPAM ***\n",
      "to             , 607\n",
      "a              , 360\n",
      "your           , 186\n",
      "or             , 185\n",
      "call           , 180\n",
      "the            , 177\n",
      "for            , 169\n",
      "2              , 168\n",
      "you            , 160\n",
      "is             , 143\n",
      "on             , 135\n",
      "Call           , 130\n",
      "have           , 128\n",
      "and            , 119\n",
      "from           , 115\n",
      "ur             , 107\n"
     ]
    }
   ],
   "source": [
    "def get_most_frequent(counter_dict, entries_no=16):\n",
    "    sorted_dict = {k:v for k,v in sorted(counter_dict.items(), key=lambda item: item[1], reverse=True)}\n",
    "    _freq = {}\n",
    "    _no = 0\n",
    "\n",
    "    for key, value in sorted_dict.items():\n",
    "        _freq[key] = value\n",
    "        _no += 1\n",
    "\n",
    "        if _no == entries_no:\n",
    "            break\n",
    "\n",
    "    return _freq\n",
    "\n",
    "\n",
    "def print_most_frequent(freq_dict):\n",
    "    for key, value in freq_dict.items():\n",
    "        print(\"{k:15}, {v}\".format(k=key, v=value))\n",
    "\n",
    "g_freq = get_most_frequent(gc)\n",
    "h_freq = get_most_frequent(hc)\n",
    "s_freq = get_most_frequent(sc)\n",
    "print('*** GLOBAL ***')\n",
    "print_most_frequent(g_freq)\n",
    "print()\n",
    "print('*** HAM ***')\n",
    "print_most_frequent(h_freq)\n",
    "print()\n",
    "print('*** SPAM ***')\n",
    "print_most_frequent(s_freq)"
   ],
   "metadata": {
    "collapsed": false,
    "pycharm": {
     "name": "#%%\n"
    }
   }
  },
  {
   "cell_type": "code",
   "execution_count": 110,
   "outputs": [
    {
     "name": "stdout",
     "output_type": "stream",
     "text": [
      "['is', 'to', 'a', 'and', 'the', 'you', 'for']\n",
      "['', 'I', 'of', 'me', 'u', 'my', 'that', 'in', 'i']\n"
     ]
    }
   ],
   "source": [
    "common_part = list(set(h_freq).intersection(s_freq))\n",
    "complement = list(set(h_freq).difference(s_freq))\n",
    "print(common_part)\n",
    "print(complement)"
   ],
   "metadata": {
    "collapsed": false,
    "pycharm": {
     "name": "#%%\n"
    }
   }
  },
  {
   "cell_type": "markdown",
   "source": [
    "- najczęstsze słowa występujące w wiadomościach to: 'to', 'you', 'I', 'the', 'a', 'and', 'in', 'i', 'u', 'is', 'my', 'me', 'of', 'for', 'that', 'your'\n",
    "- pomiędzy klasami występują różnice odnośnie częstotliwości występowania słów"
   ],
   "metadata": {
    "collapsed": false,
    "pycharm": {
     "name": "#%% md\n"
    }
   }
  },
  {
   "cell_type": "code",
   "execution_count": 111,
   "outputs": [],
   "source": [
    "del gc\n",
    "del sc\n",
    "del hc\n",
    "del common_part\n",
    "del complement\n",
    "del g_freq\n",
    "del h_freq\n",
    "del s_freq\n",
    "del ham\n",
    "del spam"
   ],
   "metadata": {
    "collapsed": false,
    "pycharm": {
     "name": "#%%\n"
    }
   }
  },
  {
   "cell_type": "markdown",
   "source": [
    "### Wstępne przetwarzanie tekstu"
   ],
   "metadata": {
    "collapsed": false,
    "pycharm": {
     "name": "#%% md\n"
    }
   }
  },
  {
   "cell_type": "code",
   "execution_count": 112,
   "outputs": [
    {
     "name": "stdout",
     "output_type": "stream",
     "text": [
      "5572\n",
      "5572\n"
     ]
    }
   ],
   "source": [
    "def eliminate_punctuation_marks(msg_str):\n",
    "    _puns = ['?', \"'\", '-', '(', ')', '[', ']', '^', '\"', ',', ':', ';', '!']\n",
    "    _msg = str(msg_str)\n",
    "\n",
    "    for i in range(0, len(_puns)):\n",
    "        _msg = _msg.replace(_puns[i], '')\n",
    "\n",
    "    return _msg\n",
    "\n",
    "\n",
    "def pre_process_msg_and_get(msg):\n",
    "    _msg = eliminate_punctuation_marks(msg)\n",
    "    _msg = _msg.lower()\n",
    "    _msg = _msg.split(' ')[1:-1]\n",
    "    return _msg\n",
    "\n",
    "\n",
    "def rebuild_to_raw_data_and_pre_process(df):\n",
    "    _labels = []\n",
    "    _messages = []\n",
    "\n",
    "    for index, row in df.iterrows():\n",
    "        _labels.append(row['label'])\n",
    "        _messages.append(pre_process_msg_and_get(row['message']))\n",
    "\n",
    "    return _messages, _labels\n",
    "\n",
    "\n",
    "messages, labels = rebuild_to_raw_data_and_pre_process(df_sms)\n",
    "print(len(messages))\n",
    "print(len(labels))"
   ],
   "metadata": {
    "collapsed": false,
    "pycharm": {
     "name": "#%%\n"
    }
   }
  },
  {
   "cell_type": "code",
   "execution_count": null,
   "outputs": [],
   "source": [
    "import nltk\n",
    "nltk.download('corpora')\n",
    "nltk.download('punkt')"
   ],
   "metadata": {
    "collapsed": false,
    "pycharm": {
     "name": "#%%\n"
    }
   }
  },
  {
   "cell_type": "code",
   "execution_count": 113,
   "outputs": [],
   "source": [
    "import nltk.stem.wordnet as nsw\n",
    "import nltk.stem.porter as nsp\n",
    "\n",
    "\n",
    "def convert_msg_to_canonical(msg, function):\n",
    "    _data = []\n",
    "\n",
    "    for i in range(0, len(msg)):\n",
    "        _sub_data = []\n",
    "\n",
    "        for j in range(0, len(msg[i])):\n",
    "            _word = msg[i][j]\n",
    "            _canonical = function(_word)\n",
    "            _sub_data.append(_canonical)\n",
    "\n",
    "        _data.append(_sub_data)\n",
    "\n",
    "    return _data\n",
    "\n",
    "\n",
    "def to_lemma(string):\n",
    "    return wnl.lemmatize(string, 'v')\n",
    "\n",
    "\n",
    "def to_stem(string):\n",
    "    return ps.stem(string)\n",
    "\n",
    "\n",
    "wnl = nsw.WordNetLemmatizer()\n",
    "ps = nsp.PorterStemmer()\n",
    "msg_lem = convert_msg_to_canonical(messages, to_lemma)\n",
    "msg_stem = convert_msg_to_canonical(messages, to_stem)"
   ],
   "metadata": {
    "collapsed": false,
    "pycharm": {
     "name": "#%%\n"
    }
   }
  },
  {
   "cell_type": "code",
   "execution_count": 114,
   "outputs": [
    {
     "name": "stdout",
     "output_type": "stream",
     "text": [
      "[5503, 3098, 3068, 3657, 597, 3477, 4109, 2810]\n",
      "[4906, 2915, 1444, 5228, 1097, 1793, 866, 1407]\n"
     ]
    }
   ],
   "source": [
    "import random as rnd\n",
    "\n",
    "\n",
    "def group_indices_by_labels(_labels):\n",
    "    _ham = [i if _labels[i] == 'ham' else None for i in range(0, len(_labels))]\n",
    "    _spam = [i if _labels[i] == 'spam' else None for i in range(0, len(_labels))]\n",
    "    _ham = [x for x in _ham if x is not None]\n",
    "    _spam = [x for x in _spam if x is not None]\n",
    "    return _ham, _spam\n",
    "\n",
    "\n",
    "def get_random_indices(indices):\n",
    "    msg_no = 8\n",
    "    randoms = indices[:]\n",
    "    rnd.shuffle(randoms)\n",
    "    return randoms[0:msg_no]\n",
    "\n",
    "\n",
    "ham_indices, spam_indices = group_indices_by_labels(labels)\n",
    "random_hams = get_random_indices(ham_indices)\n",
    "random_spams = get_random_indices(spam_indices)\n",
    "print(random_hams)\n",
    "print(random_spams)"
   ],
   "metadata": {
    "collapsed": false,
    "pycharm": {
     "name": "#%%\n"
    }
   }
  },
  {
   "cell_type": "code",
   "execution_count": 115,
   "outputs": [
    {
     "name": "stdout",
     "output_type": "stream",
     "text": [
      "*** HAM ***\n",
      "l ['*', 'be', 'much', 'easy', 'give', 'your', 'account', 'identification', 'so', 'i', 'will', 'tomorrow', 'at']\n",
      "s ['*', 'is', 'much', 'easi', 'give', 'your', 'account', 'identif', 'so', 'i', 'will', 'tomorrow', 'at']\n",
      "l ['you', 'at', 'jp', 'and', 'hungry', 'like', 'a']\n",
      "s ['you', 'at', 'jp', 'and', 'hungri', 'like', 'a']\n",
      "l ['so', 'april.', 'cant']\n",
      "s ['so', 'april.', 'cant']\n",
      "l ['really', 'do', 'you', 'make', 'it', 'on', 'air', 'whats', 'your']\n",
      "s ['realli', 'did', 'you', 'make', 'it', 'on', 'air', 'what', 'your']\n",
      "l ['mrng', 'dear', 'have', 'a', 'nice']\n",
      "s ['mrng', 'dear', 'have', 'a', 'nice']\n",
      "l ['can', 'probably', 'come', 'by', 'everybodys', 'do', 'around', '', '&lt#&gt', '']\n",
      "s ['can', 'probabl', 'come', 'by', 'everybodi', 'done', 'around', '', '&lt#&gt', '']\n",
      "l ['send', 'me', 'your', 'address']\n",
      "s ['send', 'me', 'your', 'address']\n",
      "l ['yeah', 'i', 'forgot.', 'u', 'can', 'only', 'take', '2', 'out', 'shop', 'at']\n",
      "s ['yeah', 'i', 'forgot.', 'u', 'can', 'onli', 'take', '2', 'out', 'shop', 'at']\n",
      "\n",
      "*** SPAM ***\n",
      "l ['village', '83118', 'c', 'colin', 'farrell', 'in', 'swat', 'this', 'wkend', '@warner', 'village', '&', 'get', '1', 'free', 'med.', 'popcornjust', 'show', 'msg+ticket@kiosk.valid', '47/12.', 'c', 't&c', '@kiosk.', 'reply', 'sony', '4', 'mre', 'film']\n",
      "s ['villag', '83118', 'c', 'colin', 'farrel', 'in', 'swat', 'thi', 'wkend', '@warner', 'villag', '&', 'get', '1', 'free', 'med.', 'popcornjust', 'show', 'msg+ticket@kiosk.valid', '47/12.', 'c', 't&c', '@kiosk.', 'repli', 'soni', '4', 'mre', 'film']\n",
      "l ['u', 'can', 'not', 'unsubscribe', 'yet.', 'the', 'mob', 'offer', 'package', 'have', 'a', 'min', 'term', 'of', '54', 'weeks>', 'pls', 'resubmit', 'request', 'after', 'expiry.', 'reply', 'themob', 'help', '4', 'more']\n",
      "s ['u', 'can', 'not', 'unsubscrib', 'yet.', 'the', 'mob', 'offer', 'packag', 'ha', 'a', 'min', 'term', 'of', '54', 'weeks>', 'pl', 'resubmit', 'request', 'after', 'expiry.', 'repli', 'themob', 'help', '4', 'more']\n",
      "l ['1st', 'week', 'entry', '2', 'textpod', '4', 'a', 'chance', '2', 'win', '40gb', 'ipod', 'or', '£250', 'cash', 'every', 'wk.', 'txt', 'pod', 'to', '84128', 'ts&cs', 'www.textpod.net', 'custcare']\n",
      "s ['1st', 'week', 'entri', '2', 'textpod', '4', 'a', 'chanc', '2', 'win', '40gb', 'ipod', 'or', '£250', 'cash', 'everi', 'wk.', 'txt', 'pod', 'to', '84128', 'ts&c', 'www.textpod.net', 'custcar']\n",
      "l ['your', '2003', 'account', 'statement', 'for', '<fone', 'no>', 'show', '800', 'unredeemed', 's.', 'i.', 'm.', 'points.', 'call', '08715203656', 'identifier', 'code', '42049', 'expire']\n",
      "s ['your', '2003', 'account', 'statement', 'for', '<fone', 'no>', 'show', '800', 'unredeem', 's.', 'i.', 'm.', 'points.', 'call', '08715203656', 'identifi', 'code', '42049', 'expir']\n",
      "l ['subscriber', 'ur', 'draw', '4', '£100', 'gift', 'voucher', 'will', 'b', 'enter', 'on', 'receipt', 'of', 'a', 'correct', 'ans.', 'when', 'be', 'elvis', 'presleys', 'birthday', 'txt', 'answer', 'to']\n",
      "s ['subscrib', 'ur', 'draw', '4', '£100', 'gift', 'voucher', 'will', 'b', 'enter', 'on', 'receipt', 'of', 'a', 'correct', 'ans.', 'when', 'wa', 'elvi', 'presley', 'birthday', 'txt', 'answer', 'to']\n",
      "l ['we', 'have', 'a', 'winner', 'mr.', 't.', 'foley', 'win', 'an', 'ipod', 'more', 'excite', 'prize', 'soon', 'so', 'keep', 'an', 'eye', 'on', 'ur', 'mobile', 'or', 'visit']\n",
      "s ['we', 'have', 'a', 'winner', 'mr.', 't.', 'foley', 'won', 'an', 'ipod', 'more', 'excit', 'prize', 'soon', 'so', 'keep', 'an', 'eye', 'on', 'ur', 'mobil', 'or', 'visit']\n",
      "l ['ur', 'award', 'either', 'a', 'yrs', 'supply', 'of', 'cds', 'from', 'virgin', 'record', 'or', 'a', 'mystery', 'gift', 'guarantee', 'call', '09061104283', 'ts&cs', 'www.smsco.net', '£1.50pm', 'approx']\n",
      "s ['ur', 'award', 'either', 'a', 'yr', 'suppli', 'of', 'cd', 'from', 'virgin', 'record', 'or', 'a', 'mysteri', 'gift', 'guarante', 'call', '09061104283', 'ts&c', 'www.smsco.net', '£1.50pm', 'approx']\n",
      "l ['important', 'information', 'for', 'o2', 'user.', 'today', 'be', 'your', 'lucky', 'day', '2', 'find', 'out', 'why', 'log', 'onto', 'http//www.urawinner.com', 'there', 'be', 'a', 'fantastic', 'surprise', 'await', 'for']\n",
      "s ['import', 'inform', 'for', 'o2', 'user.', 'today', 'is', 'your', 'lucki', 'day', '2', 'find', 'out', 'whi', 'log', 'onto', 'http//www.urawinner.com', 'there', 'is', 'a', 'fantast', 'surpris', 'await', 'for']\n"
     ]
    }
   ],
   "source": [
    "def print_lemmas_and_stems(lemmas, stems, random_idx):\n",
    "    for i in range(0, len(random_idx)):\n",
    "        ham_index = random_idx[i]\n",
    "        _lemma = lemmas[ham_index]\n",
    "        _stem = stems[ham_index]\n",
    "        print('l', _lemma)\n",
    "        print('s', _stem)\n",
    "\n",
    "\n",
    "def print_comparison_lemmas_with_stems(lemmas, stems, hams, spams):\n",
    "    print('*** HAM ***')\n",
    "    print_lemmas_and_stems(lemmas, stems, hams)\n",
    "    print()\n",
    "    print('*** SPAM ***')\n",
    "    print_lemmas_and_stems(lemmas, stems, spams)\n",
    "\n",
    "\n",
    "print_comparison_lemmas_with_stems(msg_lem, msg_stem, random_hams, random_spams)"
   ],
   "metadata": {
    "collapsed": false,
    "pycharm": {
     "name": "#%%\n"
    }
   }
  },
  {
   "cell_type": "code",
   "execution_count": 116,
   "outputs": [],
   "source": [
    "del wnl\n",
    "del ps\n",
    "del random_hams\n",
    "del random_spams\n",
    "del messages\n",
    "del msg_stem"
   ],
   "metadata": {
    "collapsed": false,
    "pycharm": {
     "name": "#%%\n"
    }
   }
  },
  {
   "cell_type": "code",
   "execution_count": 117,
   "outputs": [
    {
     "name": "stdout",
     "output_type": "stream",
     "text": [
      "('shouldn', 'd', 'ma', 'an', 'out', 'mustn', 'you', 'had')\n",
      "(\"it's\", 't', \"she's\", \"that'll\", 'y', 'all', \"needn't\")\n"
     ]
    }
   ],
   "source": [
    "import nltk.corpus as nc\n",
    "\n",
    "stop_words = tuple(set(nc.stopwords.words('english')))\n",
    "print(stop_words[0:8])\n",
    "print(stop_words[-8:-1])"
   ],
   "metadata": {
    "collapsed": false,
    "pycharm": {
     "name": "#%%\n"
    }
   }
  },
  {
   "cell_type": "markdown",
   "source": [
    "Wydaje się, że lista słów przestankowych jest wystarczająca, jako że zawiera takie słowa jak \"ain't\" (kolokwializm) czy \"up\" (prawdopodobnie ze względu na niedbałe \"yup\"). Ponadto slang przekształca się szybciej niżeli mowa wzorcowa, a i trudno odnaleźć jakiś slangowy zbiór słów."
   ],
   "metadata": {
    "collapsed": false,
    "pycharm": {
     "name": "#%% md\n"
    }
   }
  },
  {
   "cell_type": "code",
   "execution_count": 118,
   "outputs": [],
   "source": [
    "def filter_by_stop_words(lemmas, stoppers):\n",
    "    _filtered = []\n",
    "\n",
    "    for sentence in lemmas:\n",
    "        _entry = []\n",
    "\n",
    "        for word in sentence:\n",
    "            if word not in stoppers:\n",
    "                _entry.append(word)\n",
    "\n",
    "        _filtered.append(_entry)\n",
    "\n",
    "    return _filtered\n",
    "\n",
    "\n",
    "filtered_lemmas = filter_by_stop_words(msg_lem, stop_words)"
   ],
   "metadata": {
    "collapsed": false,
    "pycharm": {
     "name": "#%%\n"
    }
   }
  },
  {
   "cell_type": "code",
   "execution_count": 119,
   "outputs": [
    {
     "name": "stdout",
     "output_type": "stream",
     "text": [
      "16\n",
      "14\n",
      "{'I', 'u'}\n"
     ]
    }
   ],
   "source": [
    "prev_most_frequent_words = ['to', 'you', 'I', 'the', 'a', 'and', 'in', 'i', 'u', 'is', 'my', 'me', 'of', 'for', 'that', 'your']\n",
    "freq_words_in_stop_words = [x for x in stop_words if x in prev_most_frequent_words]\n",
    "complement = set(prev_most_frequent_words).difference(freq_words_in_stop_words)\n",
    "print(len(prev_most_frequent_words))\n",
    "print(len(freq_words_in_stop_words))\n",
    "print(complement)"
   ],
   "metadata": {
    "collapsed": false,
    "pycharm": {
     "name": "#%%\n"
    }
   }
  },
  {
   "cell_type": "code",
   "execution_count": 120,
   "outputs": [],
   "source": [
    "del stop_words\n",
    "del msg_lem\n",
    "del prev_most_frequent_words\n",
    "del freq_words_in_stop_words\n",
    "del complement"
   ],
   "metadata": {
    "collapsed": false,
    "pycharm": {
     "name": "#%%\n"
    }
   }
  },
  {
   "cell_type": "code",
   "execution_count": 121,
   "outputs": [
    {
     "name": "stdout",
     "output_type": "stream",
     "text": [
      "5432\n",
      "5432\n",
      "140\n"
     ]
    }
   ],
   "source": [
    "import sklearn.feature_extraction.text as skf\n",
    "\n",
    "\n",
    "def lemmas_to_one_hot(lemmas, labels):\n",
    "    # token for accepting one-letter words\n",
    "    v = skf.CountVectorizer(lowercase=False, token_pattern=r\"(?u)\\b\\w+\\b\")\n",
    "    one_hot = []\n",
    "    semantically_empty_sentences = 0\n",
    "    _labels = []\n",
    "\n",
    "    for i in range(0, len(lemmas)):\n",
    "        is_ok = True\n",
    "\n",
    "        try:\n",
    "            result = v.fit_transform(lemmas[i]).toarray()\n",
    "            one_hot.append(result)\n",
    "        except ValueError:\n",
    "            semantically_empty_sentences += 1\n",
    "            is_ok = False\n",
    "\n",
    "        if is_ok:\n",
    "            _labels.append(0 if labels[i] == 'ham' else 1)\n",
    "\n",
    "    return one_hot, _labels, semantically_empty_sentences\n",
    "\n",
    "\n",
    "X_embeddings, y_embeddings, rejected = lemmas_to_one_hot(filtered_lemmas, labels)\n",
    "print(len(X_embeddings))\n",
    "print(len(y_embeddings))\n",
    "print(rejected)"
   ],
   "metadata": {
    "collapsed": false,
    "pycharm": {
     "name": "#%%\n"
    }
   }
  },
  {
   "cell_type": "code",
   "execution_count": 122,
   "outputs": [],
   "source": [
    "del rejected\n",
    "del filtered_lemmas\n",
    "del labels\n",
    "del ham_indices\n",
    "del spam_indices\n",
    "del df_sms\n",
    "del nc"
   ],
   "metadata": {
    "collapsed": false,
    "pycharm": {
     "name": "#%%\n"
    }
   }
  },
  {
   "cell_type": "markdown",
   "source": [
    "### Naiwna klasyfikacja Bayesa"
   ],
   "metadata": {
    "collapsed": false,
    "pycharm": {
     "name": "#%% md\n"
    }
   }
  },
  {
   "cell_type": "code",
   "execution_count": 123,
   "outputs": [],
   "source": [
    "def expand_labels(x_set, _labels):\n",
    "    expanded = []\n",
    "\n",
    "    for i in range(0, len(_labels)):\n",
    "        x_dim = x_set[i].shape[0]\n",
    "        _new = [_labels[i] for _ in range(0, x_dim)]\n",
    "        expanded.append(_new)\n",
    "\n",
    "    return expanded\n",
    "\n",
    "\n",
    "y_exp = expand_labels(X_embeddings, y_embeddings)"
   ],
   "metadata": {
    "collapsed": false,
    "pycharm": {
     "name": "#%%\n"
    }
   }
  },
  {
   "cell_type": "code",
   "execution_count": 124,
   "outputs": [
    {
     "name": "stdout",
     "output_type": "stream",
     "text": [
      "[[-2.99573227 -2.99573227 -2.99573227 -2.99573227 -2.99573227 -2.99573227\n",
      "  -2.99573227 -2.99573227 -2.99573227 -2.99573227 -2.99573227 -2.99573227\n",
      "  -2.99573227 -2.99573227 -2.99573227 -2.99573227 -2.99573227 -2.99573227\n",
      "  -2.99573227 -2.99573227]\n",
      " [-2.99573227 -2.99573227 -2.99573227 -2.99573227 -2.99573227 -2.99573227\n",
      "  -2.99573227 -2.99573227 -2.99573227 -2.99573227 -2.99573227 -2.99573227\n",
      "  -2.99573227 -2.99573227 -2.99573227 -2.99573227 -2.99573227 -2.99573227\n",
      "  -2.99573227 -2.99573227]]\n"
     ]
    }
   ],
   "source": [
    "import sklearn.naive_bayes as skb\n",
    "\n",
    "case = 11\n",
    "bayes = skb.MultinomialNB()\n",
    "bayes.fit(X_embeddings[case], y_exp[case])\n",
    "print(bayes.coef_)"
   ],
   "metadata": {
    "collapsed": false,
    "pycharm": {
     "name": "#%%\n"
    }
   }
  },
  {
   "cell_type": "code",
   "execution_count": 125,
   "outputs": [],
   "source": [
    "del bayes\n",
    "del case\n",
    "del y_embeddings\n",
    "del y_exp\n",
    "del X_embeddings"
   ],
   "metadata": {
    "collapsed": false,
    "pycharm": {
     "name": "#%%\n"
    }
   }
  },
  {
   "cell_type": "code",
   "execution_count": null,
   "outputs": [],
   "source": [
    "!jupyter nbconvert --to pdf lab6.ipynb"
   ],
   "metadata": {
    "collapsed": false,
    "pycharm": {
     "name": "#%%\n"
    }
   }
  },
  {
   "cell_type": "code",
   "execution_count": null,
   "outputs": [],
   "source": [
    "del _exit_code"
   ],
   "metadata": {
    "collapsed": false,
    "pycharm": {
     "name": "#%%\n"
    }
   }
  }
 ],
 "metadata": {
  "kernelspec": {
   "display_name": "Python 3",
   "language": "python",
   "name": "python3"
  },
  "language_info": {
   "codemirror_mode": {
    "name": "ipython",
    "version": 2
   },
   "file_extension": ".py",
   "mimetype": "text/x-python",
   "name": "python",
   "nbconvert_exporter": "python",
   "pygments_lexer": "ipython2",
   "version": "2.7.6"
  }
 },
 "nbformat": 4,
 "nbformat_minor": 0
}