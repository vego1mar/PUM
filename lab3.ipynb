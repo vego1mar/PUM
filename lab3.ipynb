{
 "cells": [
  {
   "cell_type": "code",
   "execution_count": 1,
   "metadata": {
    "collapsed": true
   },
   "outputs": [
    {
     "name": "stdout",
     "output_type": "stream",
     "text": [
      "[['0.0' '-6348.053104365714']\n",
      " ['1.0' '-6297.826138727561']\n",
      " ['2.0' '-6247.921973038114']\n",
      " ...\n",
      " ['5997.0' '67410.53357700026']\n",
      " ['5998.0' '67766.31912616407']\n",
      " ['5999.0' '68123.73596576368']]\n"
     ]
    }
   ],
   "source": [
    "import csv\n",
    "import numpy as np\n",
    "\n",
    "\n",
    "def read_csv_file(csv_file):\n",
    "    data = []\n",
    "    is_first_line_consumed = False\n",
    "    \n",
    "    with open(csv_file, newline='') as file:\n",
    "        reader = csv.DictReader(file, delimiter=',')\n",
    "        \n",
    "        for row in reader:\n",
    "            if not is_first_line_consumed:\n",
    "                is_first_line_consumed = True\n",
    "                x, y = row\n",
    "                data.append([x, y])\n",
    "            \n",
    "            x, y = row\n",
    "            data.append([row[x], row[y]])\n",
    "            \n",
    "    return np.array(data)"
   ]
  },
  {
   "cell_type": "code",
   "execution_count": 7,
   "outputs": [
    {
     "name": "stdout",
     "output_type": "stream",
     "text": [
      "[['0.0' '-6348.053104365714']\n",
      " ['1.0' '-6297.826138727561']\n",
      " ['2.0' '-6247.921973038114']\n",
      " ...\n",
      " ['5997.0' '67410.53357700026']\n",
      " ['5998.0' '67766.31912616407']\n",
      " ['5999.0' '68123.73596576368']]\n"
     ]
    }
   ],
   "source": [
    "CSV_FILE_NAME = './testfile.csv'\n",
    "csv_data = read_csv_file(CSV_FILE_NAME)\n",
    "print(csv_data)"
   ],
   "metadata": {
    "collapsed": false,
    "pycharm": {
     "name": "#%%\n"
    }
   }
  },
  {
   "cell_type": "code",
   "execution_count": 41,
   "outputs": [
    {
     "name": "stdout",
     "output_type": "stream",
     "text": [
      "(6000,)\n"
     ]
    }
   ],
   "source": [
    "X = np.array(csv_data).astype(float)\n",
    "\n",
    "# y = 2*x0 + 11*x1 + 1\n",
    "y = np.dot(X, np.array([2, 11])) + 1\n",
    "print(y.shape)"
   ],
   "metadata": {
    "collapsed": false,
    "pycharm": {
     "name": "#%%\n"
    }
   }
  },
  {
   "cell_type": "code",
   "execution_count": 42,
   "outputs": [
    {
     "data": {
      "text/plain": "[<matplotlib.lines.Line2D at 0x7f32f445e590>,\n <matplotlib.lines.Line2D at 0x7f32f445ea90>]"
     },
     "execution_count": 42,
     "metadata": {},
     "output_type": "execute_result"
    },
    {
     "data": {
      "text/plain": "<Figure size 432x288 with 1 Axes>",
      "image/png": "[encoded data removed]"
     },
     "metadata": {
      "needs_background": "light"
     },
     "output_type": "display_data"
    }
   ],
   "source": [
    "import matplotlib.pyplot as plt\n",
    "\n",
    "plt.figure()\n",
    "plt.plot(X)"
   ],
   "metadata": {
    "collapsed": false,
    "pycharm": {
     "name": "#%%\n"
    }
   }
  },
  {
   "cell_type": "code",
   "execution_count": 45,
   "outputs": [
    {
     "name": "stdout",
     "output_type": "stream",
     "text": [
      "1.0\n",
      "[ 2. 11.]\n",
      "0.9999999998690328\n",
      "[53.]\n"
     ]
    }
   ],
   "source": [
    "import sklearn.linear_model as skl\n",
    "\n",
    "lin_reg = skl.LinearRegression().fit(X, y)\n",
    "print(lin_reg.score(X, y))\n",
    "print(lin_reg.coef_)\n",
    "print(lin_reg.intercept_)\n",
    "t_point = [4,4]\n",
    "y_pred = lin_reg.predict(np.array([t_point]))\n",
    "print(y_pred)"
   ],
   "metadata": {
    "collapsed": false,
    "pycharm": {
     "name": "#%%\n"
    }
   }
  },
  {
   "cell_type": "code",
   "execution_count": 46,
   "outputs": [
    {
     "name": "stdout",
     "output_type": "stream",
     "text": [
      "52.99999999986907\n",
      "[53.]\n"
     ]
    }
   ],
   "source": [
    "prediction = np.dot(np.array([1, t_point[0], t_point[1]]),\n",
    "    np.insert(lin_reg.coef_, 0, lin_reg.intercept_).T) * 1.0\n",
    "\n",
    "print(prediction)\n",
    "print(y_pred)\n"
   ],
   "metadata": {
    "collapsed": false,
    "pycharm": {
     "name": "#%%\n"
    }
   }
  }
 ],
 "metadata": {
  "kernelspec": {
   "display_name": "Python 3",
   "language": "python",
   "name": "python3"
  },
  "language_info": {
   "codemirror_mode": {
    "name": "ipython",
    "version": 2
   },
   "file_extension": ".py",
   "mimetype": "text/x-python",
   "name": "python",
   "nbconvert_exporter": "python",
   "pygments_lexer": "ipython2",
   "version": "2.7.6"
  }
 },
 "nbformat": 4,
 "nbformat_minor": 0
}